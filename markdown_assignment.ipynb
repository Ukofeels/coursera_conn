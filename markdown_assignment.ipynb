{
 "cells": [
  {
   "cell_type": "markdown",
   "id": "1eb4c9fa",
   "metadata": {},
   "source": [
    "# My Jupyter Notebook on IBM Watson Studio"
   ]
  },
  {
   "cell_type": "markdown",
   "id": "f6650fa8",
   "metadata": {},
   "source": [
    "**Uko Etukho**  \n",
    "Data Scientist"
   ]
  },
  {
   "cell_type": "markdown",
   "id": "603d0beb",
   "metadata": {},
   "source": [
    "*I'm interested in Data Science because Data is just fascinating.*"
   ]
  },
  {
   "cell_type": "markdown",
   "id": "15ade6fa",
   "metadata": {},
   "source": [
    "### A mesage to my colleagues on Coursera"
   ]
  },
  {
   "cell_type": "code",
   "execution_count": 1,
   "id": "5eb21483",
   "metadata": {},
   "outputs": [
    {
     "name": "stdout",
     "output_type": "stream",
     "text": [
      "I love you all\n"
     ]
    }
   ],
   "source": [
    "print('I love you all')"
   ]
  },
  {
   "cell_type": "markdown",
   "id": "715437b2",
   "metadata": {},
   "source": [
    "1. First number.  \n",
    "2. Second number.  \n",
    "3. Third number."
   ]
  },
  {
   "cell_type": "markdown",
   "id": "db22e7d5",
   "metadata": {},
   "source": [
    "***************"
   ]
  },
  {
   "cell_type": "markdown",
   "id": "59cab021",
   "metadata": {},
   "source": [
    "* First item.\n",
    "* Second item.\n",
    "* Third item."
   ]
  }
 ],
 "metadata": {
  "kernelspec": {
   "display_name": "Python 3 (ipykernel)",
   "language": "python",
   "name": "python3"
  },
  "language_info": {
   "codemirror_mode": {
    "name": "ipython",
    "version": 3
   },
   "file_extension": ".py",
   "mimetype": "text/x-python",
   "name": "python",
   "nbconvert_exporter": "python",
   "pygments_lexer": "ipython3",
   "version": "3.9.7"
  }
 },
 "nbformat": 4,
 "nbformat_minor": 5
}
